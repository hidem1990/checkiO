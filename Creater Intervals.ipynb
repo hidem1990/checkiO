{
 "cells": [
  {
   "cell_type": "code",
   "execution_count": null,
   "metadata": {},
   "outputs": [],
   "source": [
    "def create_intervals(data):\n",
    "    \"\"\"\n",
    "        Create a list of intervals out of set of ints.\n",
    "    \"\"\"\n",
    "    data=sorted(data)\n",
    "    if len(data) == 0:\n",
    "        return []\n",
    "    else:\n",
    "        answer =[-1]\n",
    "        for i in range(len(data)-1):\n",
    "            if data[i+1] - data[i] !=1:\n",
    "                answer.append(i)\n",
    "        answer.append(len(data)-1)\n",
    "        return [(data[answer[i]+1], data[answer[i+1]]) for i in range(len(answer)-1)]"
   ]
  },
  {
   "cell_type": "code",
   "execution_count": null,
   "metadata": {},
   "outputs": [],
   "source": []
  },
  {
   "cell_type": "code",
   "execution_count": 14,
   "metadata": {},
   "outputs": [],
   "source": [
    "data={1, 2, 3, 4, 5, 7, 8, 12}\n",
    "data=sorted(data)"
   ]
  },
  {
   "cell_type": "code",
   "execution_count": 34,
   "metadata": {},
   "outputs": [],
   "source": [
    "answer =[-1]\n",
    "for i in range(len(data)-1):\n",
    "    if data[i+1] - data[i] !=1:\n",
    "        answer.append(i)\n",
    "answer.append(len(data)-1)"
   ]
  },
  {
   "cell_type": "code",
   "execution_count": 33,
   "metadata": {},
   "outputs": [
    {
     "data": {
      "text/plain": [
       "[(1, 5), (7, 8), (12, 12)]"
      ]
     },
     "execution_count": 33,
     "metadata": {},
     "output_type": "execute_result"
    }
   ],
   "source": [
    "[(data[answer[0]],data[answer[1]]),(data[answer[1]+1],data[answer[2]]),(data[answer[2]+1],data[answer[3]])]"
   ]
  },
  {
   "cell_type": "code",
   "execution_count": null,
   "metadata": {},
   "outputs": [],
   "source": []
  },
  {
   "cell_type": "code",
   "execution_count": null,
   "metadata": {},
   "outputs": [],
   "source": [
    "# others' answer\n",
    "\n",
    "from itertools import groupby\n",
    "\n",
    "def create_intervals(data):\n",
    "    return [(r[0], r[-1]) for r in (list(zip(*g))[1] for _, g in groupby(enumerate(sorted(data)), lambda i: i[1] - i[0]))]"
   ]
  }
 ],
 "metadata": {
  "kernelspec": {
   "display_name": "Python 3",
   "language": "python",
   "name": "python3"
  },
  "language_info": {
   "codemirror_mode": {
    "name": "ipython",
    "version": 3
   },
   "file_extension": ".py",
   "mimetype": "text/x-python",
   "name": "python",
   "nbconvert_exporter": "python",
   "pygments_lexer": "ipython3",
   "version": "3.7.4"
  }
 },
 "nbformat": 4,
 "nbformat_minor": 4
}
