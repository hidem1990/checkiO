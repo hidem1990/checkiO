{
 "cells": [
  {
   "cell_type": "code",
   "execution_count": null,
   "metadata": {},
   "outputs": [],
   "source": [
    "VOWELS = \"AEIOUY\"\n",
    "CONSONANTS = \"BCDFGHJKLMNPQRSTVWXZ\"\n",
    "import re\n",
    "\n",
    "def checkio(text):\n",
    "    test_s = re.split(\"[,. ?!]\", text)\n",
    "    answer= 0\n",
    "    for i in test_s:\n",
    "        i_bool =[]\n",
    "        if len(i) >1:\n",
    "            for j in range(len(i)-1):\n",
    "                i_bool.append(((i[j].upper() in VOWELS) and (i[j+1].upper() in CONSONANTS)) or ((i[j+1].upper() in VOWELS) and (i[j].upper() in CONSONANTS)))\n",
    "            if all(i_bool):\n",
    "                answer += 1\n",
    "    return answer"
   ]
  },
  {
   "cell_type": "code",
   "execution_count": null,
   "metadata": {},
   "outputs": [],
   "source": []
  },
  {
   "cell_type": "code",
   "execution_count": 117,
   "metadata": {},
   "outputs": [],
   "source": [
    "test = \"My name is ...\"\n",
    "test_s= test.split(\" \")"
   ]
  },
  {
   "cell_type": "code",
   "execution_count": 118,
   "metadata": {},
   "outputs": [
    {
     "data": {
      "text/plain": [
       "['My', 'name', 'is', '...']"
      ]
     },
     "execution_count": 118,
     "metadata": {},
     "output_type": "execute_result"
    }
   ],
   "source": [
    "test_s"
   ]
  },
  {
   "cell_type": "code",
   "execution_count": 133,
   "metadata": {},
   "outputs": [],
   "source": [
    "answer= 0\n",
    "i = 'A'\n",
    "i_bool =[]\n",
    "for j in range(len(i)-1):\n",
    "    i_bool.append(((i[j].upper() in VOWELS) and (i[j+1].upper() in CONSONANTS)) or ((i[j+1].upper() in VOWELS) and (i[j].upper() in CONSONANTS)))\n",
    "if all(i_bool):\n",
    "    answer += 1"
   ]
  },
  {
   "cell_type": "code",
   "execution_count": 134,
   "metadata": {},
   "outputs": [
    {
     "data": {
      "text/plain": [
       "1"
      ]
     },
     "execution_count": 134,
     "metadata": {},
     "output_type": "execute_result"
    }
   ],
   "source": [
    "answer"
   ]
  },
  {
   "cell_type": "code",
   "execution_count": 160,
   "metadata": {},
   "outputs": [],
   "source": [
    "test = \"To take a trivial example, which of us ever undertakes laborious physical exercise, except to obtain some advantage from it?\""
   ]
  },
  {
   "cell_type": "code",
   "execution_count": 161,
   "metadata": {},
   "outputs": [
    {
     "data": {
      "text/plain": [
       "['To',\n",
       " 'take',\n",
       " 'a',\n",
       " 'trivial',\n",
       " 'example',\n",
       " '',\n",
       " 'which',\n",
       " 'of',\n",
       " 'us',\n",
       " 'ever',\n",
       " 'undertakes',\n",
       " 'laborious',\n",
       " 'physical',\n",
       " 'exercise',\n",
       " '',\n",
       " 'except',\n",
       " 'to',\n",
       " 'obtain',\n",
       " 'some',\n",
       " 'advantage',\n",
       " 'from',\n",
       " 'it?']"
      ]
     },
     "execution_count": 161,
     "metadata": {},
     "output_type": "execute_result"
    }
   ],
   "source": [
    "import re\n",
    "\n",
    "re.split(\"[,. ]\",test)\n"
   ]
  },
  {
   "cell_type": "code",
   "execution_count": null,
   "metadata": {},
   "outputs": [],
   "source": []
  }
 ],
 "metadata": {
  "kernelspec": {
   "display_name": "Python 3",
   "language": "python",
   "name": "python3"
  },
  "language_info": {
   "codemirror_mode": {
    "name": "ipython",
    "version": 3
   },
   "file_extension": ".py",
   "mimetype": "text/x-python",
   "name": "python",
   "nbconvert_exporter": "python",
   "pygments_lexer": "ipython3",
   "version": "3.7.4"
  }
 },
 "nbformat": 4,
 "nbformat_minor": 4
}
