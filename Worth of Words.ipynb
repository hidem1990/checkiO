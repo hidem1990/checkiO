{
 "cells": [
  {
   "cell_type": "code",
   "execution_count": null,
   "metadata": {},
   "outputs": [],
   "source": [
    "VALUES = {'e': 1,  'a': 1, 'i': 1, 'o': 1, 'n': 1, 'r': 1,\n",
    "          't': 1,  'l': 1, 's': 1, 'u': 1, 'd': 2, 'g': 2,\n",
    "          'b': 3,  'c': 3, 'm': 3, 'p': 3, 'f': 4, 'h': 4,\n",
    "          'v': 4,  'w': 4, 'y': 4, 'k': 5, 'j': 8, 'x': 8,\n",
    "          'q': 10, 'z': 10}\n",
    "\n",
    "def worth_of_words(words):\n",
    "    answer=[]\n",
    "    for i in words:\n",
    "        number =0\n",
    "        for j in range(len(i)):\n",
    "            number += VALUES[i[j]]\n",
    "        answer.append(number)\n",
    "    return words[answer.index(max(answer))]"
   ]
  },
  {
   "cell_type": "code",
   "execution_count": 13,
   "metadata": {},
   "outputs": [],
   "source": [
    "test=['hi', 'quiz', 'bomb', 'president']"
   ]
  },
  {
   "cell_type": "code",
   "execution_count": 38,
   "metadata": {},
   "outputs": [],
   "source": [
    "answer=[]\n",
    "for i in test:\n",
    "    number =0\n",
    "    for j in range(len(i)):\n",
    "        number += VALUES[i[j]]\n",
    "    answer.append(number)"
   ]
  },
  {
   "cell_type": "code",
   "execution_count": 46,
   "metadata": {},
   "outputs": [
    {
     "data": {
      "text/plain": [
       "'quiz'"
      ]
     },
     "execution_count": 46,
     "metadata": {},
     "output_type": "execute_result"
    }
   ],
   "source": [
    "test[answer.index(max(answer))]"
   ]
  },
  {
   "cell_type": "code",
   "execution_count": null,
   "metadata": {},
   "outputs": [],
   "source": []
  },
  {
   "cell_type": "code",
   "execution_count": null,
   "metadata": {},
   "outputs": [],
   "source": [
    "# others answer\n",
    "\n",
    "VALUES = {'e': 1,  'a': 1, 'i': 1, 'o': 1, 'n': 1, 'r': 1,\n",
    "          't': 1,  'l': 1, 's': 1, 'u': 1, 'd': 2, 'g': 2,\n",
    "          'b': 3,  'c': 3, 'm': 3, 'p': 3, 'f': 4, 'h': 4,\n",
    "          'v': 4,  'w': 4, 'y': 4, 'k': 5, 'j': 8, 'x': 8,\n",
    "          'q': 10, 'z': 10}\n",
    "\n",
    "def worth_of_words(words):\n",
    "    return max(words, key=lambda word: sum(VALUES[w.lower()] for w in word))"
   ]
  }
 ],
 "metadata": {
  "kernelspec": {
   "display_name": "Python 3",
   "language": "python",
   "name": "python3"
  },
  "language_info": {
   "codemirror_mode": {
    "name": "ipython",
    "version": 3
   },
   "file_extension": ".py",
   "mimetype": "text/x-python",
   "name": "python",
   "nbconvert_exporter": "python",
   "pygments_lexer": "ipython3",
   "version": "3.7.4"
  }
 },
 "nbformat": 4,
 "nbformat_minor": 4
}
