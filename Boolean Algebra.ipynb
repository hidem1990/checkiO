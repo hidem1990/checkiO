{
 "cells": [
  {
   "cell_type": "code",
   "execution_count": 11,
   "metadata": {},
   "outputs": [],
   "source": [
    "OPERATION_NAMES = (\"conjunction\", \"disjunction\", \"implication\", \"exclusive\", \"equivalence\")\n",
    "\n",
    "def boolean(x, y, operation):\n",
    "    if operation ==\"conjunction\":\n",
    "        if x==1 and y==1:\n",
    "            return 1\n",
    "        else:return 0\n",
    "    if operation ==\"disjunction\":\n",
    "        if x==1 or y==1:\n",
    "            return 1\n",
    "        else:return 0\n",
    "    if operation ==\"implication\":\n",
    "        if x==0 or y ==1:\n",
    "            return 1\n",
    "        else: return 0\n",
    "    if operation ==\"exclusive\":\n",
    "        if x==y:\n",
    "            return 0\n",
    "        else: return 1\n",
    "    if operation ==\"equivalence\":\n",
    "        if x==y:\n",
    "            return 1\n",
    "        else: return 0"
   ]
  },
  {
   "cell_type": "code",
   "execution_count": null,
   "metadata": {},
   "outputs": [],
   "source": []
  },
  {
   "cell_type": "code",
   "execution_count": null,
   "metadata": {},
   "outputs": [],
   "source": [
    "# others' answer\n",
    "\n",
    "OPERATION_NAMES = (\"conjunction\", \"disjunction\", \"implication\", \"exclusive\", \"equivalence\")\n",
    "\n",
    "def boolean(x, y, operation):\n",
    "    i = OPERATION_NAMES.index(operation)\n",
    "    if i == 0:\n",
    "        return x and y\n",
    "    elif i == 1:\n",
    "        return x or y\n",
    "    elif i == 2:\n",
    "        return y==1 if x else not x\n",
    "    elif i == 3:\n",
    "        return x != y\n",
    "    else:\n",
    "        return x == y"
   ]
  },
  {
   "cell_type": "code",
   "execution_count": null,
   "metadata": {},
   "outputs": [],
   "source": [
    "from operator import (and_ as conjunction, or_ as disjunction, xor as exclusive,\n",
    "                      le as implication, eq as equivalence)\n",
    "boolean = lambda x, y, op: globals()[op](x, y)"
   ]
  },
  {
   "cell_type": "code",
   "execution_count": null,
   "metadata": {},
   "outputs": [],
   "source": []
  }
 ],
 "metadata": {
  "kernelspec": {
   "display_name": "Python 3",
   "language": "python",
   "name": "python3"
  },
  "language_info": {
   "codemirror_mode": {
    "name": "ipython",
    "version": 3
   },
   "file_extension": ".py",
   "mimetype": "text/x-python",
   "name": "python",
   "nbconvert_exporter": "python",
   "pygments_lexer": "ipython3",
   "version": "3.7.4"
  }
 },
 "nbformat": 4,
 "nbformat_minor": 4
}
